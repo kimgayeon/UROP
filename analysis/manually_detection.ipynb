{
 "cells": [
  {
   "cell_type": "code",
   "execution_count": 7,
   "metadata": {
    "collapsed": true,
    "scrolled": true
   },
   "outputs": [],
   "source": [
    "import pandas as pd\n",
    "import numpy as np\n",
    "import matplotlib.pyplot as plt\n",
    "import json\n",
    "\n",
    "pd.set_option('max_colwidth', 500)\n",
    "\n",
    "common_front = '../../../dataset/go_0715/gogosing_' \n",
    "common_back = '.json'\n",
    "\n",
    "def get_file(file_num):   \n",
    "    file_path = common_front + str(file_num) + common_back\n",
    "    json_data = open(file_path).read()\n",
    "    data = json.loads(json_data)\n",
    "    df_data = pd.DataFrame(data)\n",
    "    return df_data\n",
    "\n",
    "\n",
    "# 74번 파일이 에러가 나서 제외함\n",
    "def concat_file(file_num):\n",
    "    start_file = pd.DataFrame(get_file(1))\n",
    "    for i in range(2,file_num+1):\n",
    "        if( i == 74):\n",
    "            continue\n",
    "        df_tmp = pd.DataFrame(get_file(i))\n",
    "        start_file = pd.concat([start_file, df_tmp])\n",
    "    start_file = start_file.reset_index(drop=True)\n",
    "    return start_file"
   ]
  },
  {
   "cell_type": "code",
   "execution_count": 8,
   "metadata": {
    "collapsed": true
   },
   "outputs": [],
   "source": [
    "go_data = concat_file(156)"
   ]
  },
  {
   "cell_type": "code",
   "execution_count": 9,
   "metadata": {},
   "outputs": [
    {
     "data": {
      "text/plain": [
       "772829"
      ]
     },
     "execution_count": 9,
     "metadata": {},
     "output_type": "execute_result"
    }
   ],
   "source": [
    "len(go_data)"
   ]
  },
  {
   "cell_type": "code",
   "execution_count": 11,
   "metadata": {},
   "outputs": [
    {
     "data": {
      "text/plain": [
       "Series([], Name: desc, dtype: object)"
      ]
     },
     "execution_count": 11,
     "metadata": {},
     "output_type": "execute_result"
    }
   ],
   "source": [
    "(go_data.loc[go_data['cId']=='mauhoat**'])['desc']"
   ]
  },
  {
   "cell_type": "code",
   "execution_count": null,
   "metadata": {
    "collapsed": true
   },
   "outputs": [],
   "source": []
  }
 ],
 "metadata": {
  "kernelspec": {
   "display_name": "Python 2",
   "language": "python",
   "name": "python2"
  },
  "language_info": {
   "codemirror_mode": {
    "name": "ipython",
    "version": 2
   },
   "file_extension": ".py",
   "mimetype": "text/x-python",
   "name": "python",
   "nbconvert_exporter": "python",
   "pygments_lexer": "ipython2",
   "version": "2.7.12"
  }
 },
 "nbformat": 4,
 "nbformat_minor": 2
}
