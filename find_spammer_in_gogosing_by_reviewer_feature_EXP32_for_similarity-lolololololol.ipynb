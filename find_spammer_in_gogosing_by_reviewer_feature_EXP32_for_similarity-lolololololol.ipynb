{
 "cells": [
  {
   "cell_type": "markdown",
   "metadata": {},
   "source": [
    "확실한 spammer에 대한 정보를 가지기 위해서 (training에 사용할 데이터)\n",
    "\n",
    "조건1 : reviewer Burstiness (RB) - focused on product\n",
    "(한 제품에 일정 날에 리뷰를 많이남긴 리뷰어)\n",
    "\n",
    "조건2 : reviewer who has a lot of reviews\n",
    "(minimum리뷰수를 적절히 바꿔가면서 리뷰가 많은 리뷰어 찾기)\n",
    "\n",
    "조건3 : 상호명(아뜨랑스, 고고싱, 스타일난다(난다))를 직접적으로 언급한 리뷰\n",
    "\n",
    "조건4 : 평균 rScore가 5에 가까운 리뷰어\n",
    "\n",
    "조건5 : 한 제품에 여러번 리뷰를 남긴 리뷰어\n",
    "\n",
    "5개 모두 적용되는 리뷰어"
   ]
  },
  {
   "cell_type": "code",
   "execution_count": 2,
   "metadata": {
    "collapsed": true
   },
   "outputs": [],
   "source": [
    "import pandas as pd\n",
    "import numpy as np\n",
    "import matplotlib.pyplot as plt\n",
    "import json\n",
    "from konlpy.utils import pprint "
   ]
  },
  {
   "cell_type": "markdown",
   "metadata": {},
   "source": [
    "# gogosing dataset"
   ]
  },
  {
   "cell_type": "code",
   "execution_count": 22,
   "metadata": {
    "collapsed": true
   },
   "outputs": [],
   "source": [
    "#gogosing\n",
    "common_front = '../dataset/go_0715/gogosing_' \n",
    "common_back = '.json'\n",
    "\n",
    "def get_file(file_num):   \n",
    "    file_path = common_front + str(file_num) + common_back\n",
    "    json_data = open(file_path).read()\n",
    "    data = json.loads(json_data)\n",
    "    df_data = pd.DataFrame(data)\n",
    "    return df_data\n",
    "\n",
    "# 74번 파일이 에러가 나서 제외함\n",
    "def concat_file(file_num):\n",
    "    start_file = pd.DataFrame(get_file(1))\n",
    "    for i in range(2,file_num+1):\n",
    "        if( i == 74):\n",
    "            continue\n",
    "        df_tmp = pd.DataFrame(get_file(i))\n",
    "        start_file = pd.concat([start_file, df_tmp])\n",
    "    start_file = start_file.reset_index(drop=True)\n",
    "    return start_file\n",
    "\n",
    "go_data = concat_file(156)"
   ]
  },
  {
   "cell_type": "code",
   "execution_count": 26,
   "metadata": {},
   "outputs": [
    {
     "name": "stdout",
     "output_type": "stream",
     "text": [
      "total amount of gogosing data(reviews) : 772829\n"
     ]
    }
   ],
   "source": [
    "print(\"total amount of gogosing data(reviews) : \" + str(go_data.shape[0]))"
   ]
  },
  {
   "cell_type": "markdown",
   "metadata": {},
   "source": [
    "attrangs에는 네이버페이 구매자가 존재하지 않음"
   ]
  },
  {
   "cell_type": "markdown",
   "metadata": {},
   "source": [
    "# original rScore distribution in attrangs"
   ]
  },
  {
   "cell_type": "code",
   "execution_count": 27,
   "metadata": {},
   "outputs": [
    {
     "data": {
      "text/plain": [
       "5.0    700708\n",
       "4.0     46769\n",
       "3.0     18178\n",
       "2.0      4563\n",
       "1.0      2611\n",
       "Name: rScore, dtype: int64"
      ]
     },
     "execution_count": 27,
     "metadata": {},
     "output_type": "execute_result"
    }
   ],
   "source": [
    "original_rscore = go_data['rScore'].value_counts()\n",
    "original_rscore"
   ]
  },
  {
   "cell_type": "code",
   "execution_count": 28,
   "metadata": {},
   "outputs": [
    {
     "data": {
      "image/png": "[encoded data removed]",
      "text/plain": [
       "<Figure size 432x288 with 1 Axes>"
      ]
     },
     "metadata": {},
     "output_type": "display_data"
    },
    {
     "name": "stdout",
     "output_type": "stream",
     "text": [
      "ratio btw 5.0 and 4.0 : 14.982317347\n",
      "ratio btw 5.0 and 3.0 : 38.5470348773\n",
      "ratio btw 5.0 and 2.0 : 153.563006794\n",
      "ratio btw 5.0 and 1.0 : 268.36767522\n",
      "the number of 5.0 reviews : 700708\n",
      "the number of 4.0 reviews : 46769\n",
      "the number of 3.0 reviews : 18178\n",
      "the number of 2.0 reviews : 4563\n",
      "the number of 1.0 reviews : 2611\n"
     ]
    }
   ],
   "source": [
    "score = ('5.0', '4.0', '3.0', '2.0', '1.0')\n",
    "number_of_reviews = [original_rscore[5.0],\n",
    "                    original_rscore[4.0],\n",
    "                    original_rscore[3.0],\n",
    "                    original_rscore[2.0],\n",
    "                    original_rscore[1.0]\n",
    "                    ]\n",
    "\n",
    "plt.bar(score, number_of_reviews, color=['red'],\n",
    "        width=0.3, alpha=0.5)\n",
    "plt.xticks(score, fontsize=15)\n",
    "plt.yticks(fontsize=15)\n",
    "plt.ylabel('# of review', fontsize=15)\n",
    "plt.rcParams[\"figure.figsize\"] = (6,4)\n",
    "plt.xlabel('gogosing original data', fontsize=15)\n",
    "ax = plt.gca()\n",
    "ax.set_ylim([0.0, original_rscore[5.0] + 10000])\n",
    "plt.show()\n",
    "\n",
    "print (\"ratio btw 5.0 and 4.0 : \" + str(float(original_rscore[5.0])/original_rscore[4.0]))\n",
    "print (\"ratio btw 5.0 and 3.0 : \" + str(float(original_rscore[5.0])/original_rscore[3.0]))\n",
    "print (\"ratio btw 5.0 and 2.0 : \" + str(float(original_rscore[5.0])/original_rscore[2.0]))\n",
    "print (\"ratio btw 5.0 and 1.0 : \" + str(float(original_rscore[5.0])/original_rscore[1.0]))\n",
    "\n",
    "print (\"the number of 5.0 reviews : \" + str(original_rscore[5.0]))\n",
    "print (\"the number of 4.0 reviews : \" + str(original_rscore[4.0]))\n",
    "print (\"the number of 3.0 reviews : \" + str(original_rscore[3.0]))\n",
    "print (\"the number of 2.0 reviews : \" + str(original_rscore[2.0]))\n",
    "print (\"the number of 1.0 reviews : \" + str(original_rscore[1.0]))\n",
    "    "
   ]
  },
  {
   "cell_type": "code",
   "execution_count": 30,
   "metadata": {},
   "outputs": [
    {
     "name": "stdout",
     "output_type": "stream",
     "text": [
      "the number of unique pid in gogosing : 25602\n",
      "the number of unique rDate in gogosing : 3352\n",
      "the number of unique cid in gogosing : 138650\n"
     ]
    }
   ],
   "source": [
    "go_unique_pid = go_data.pID.unique()\n",
    "print(\"the number of unique pid in gogosing : \" + str(len(go_unique_pid)))\n",
    "go_unique_rDate =go_data.rDate.unique()\n",
    "print(\"the number of unique rDate in gogosing : \" + str(len(go_unique_rDate)))\n",
    "go_unique_cid = go_data.cId.unique()\n",
    "print(\"the number of unique cid in gogosing : \" + str(len(go_unique_cid)))"
   ]
  },
  {
   "cell_type": "markdown",
   "metadata": {},
   "source": [
    "# condition 1 : reviewer Burstiness (RB) - focused on product\n",
    "\n",
    "(한 제품에 일정 날에 리뷰를 많이남긴 리뷰어)"
   ]
  },
  {
   "cell_type": "code",
   "execution_count": 31,
   "metadata": {
    "collapsed": true
   },
   "outputs": [],
   "source": [
    "def burst_in_product(min_count, dataframe):\n",
    "    condition1 = []\n",
    "    product_burst = pd.DataFrame({'count' : dataframe.groupby( [ \"pID\", \"rDate\", \"cId\"] ).size()}).reset_index()\n",
    "    suspicious_reviewers = (product_burst[product_burst['count'] >= min_count])['cId']\n",
    "    for reviewer in suspicious_reviewers:\n",
    "        condition1.append(reviewer)\n",
    "    return remove_duplicate_from_list(condition1)\n",
    "    "
   ]
  },
  {
   "cell_type": "code",
   "execution_count": 32,
   "metadata": {
    "collapsed": true
   },
   "outputs": [],
   "source": [
    "def remove_duplicate_from_list(input_list):\n",
    "    tmp_set = set(input_list)\n",
    "    result = list(tmp_set)\n",
    "    return result"
   ]
  },
  {
   "cell_type": "markdown",
   "metadata": {
    "collapsed": true
   },
   "source": [
    "# condition 2 : reviewer who has a lot of reviews\n",
    "(minimum리뷰수를 적절히 바꿔가면서 리뷰가 많은 리뷰어 찾기)"
   ]
  },
  {
   "cell_type": "code",
   "execution_count": 33,
   "metadata": {
    "collapsed": true
   },
   "outputs": [],
   "source": [
    "def find_reviewer_who_has_many_reviews(min_review, dataframe):\n",
    "    condition2 = []\n",
    "    reviewer_and_reviews = dataframe['cId'].value_counts()\n",
    "    suspicious_reviewers = reviewer_and_reviews[reviewer_and_reviews >= min_review].index\n",
    "    for reviewer in suspicious_reviewers:\n",
    "        condition2.append(reviewer)\n",
    "    return condition2\n",
    "\n",
    "#.encode('ascii','ignore')"
   ]
  },
  {
   "cell_type": "markdown",
   "metadata": {},
   "source": [
    "# condition 3 : 상호명(아뜨랑스, 고고싱, 스타일난다(난다))를 직접적으로 언급한 리뷰어"
   ]
  },
  {
   "cell_type": "code",
   "execution_count": 34,
   "metadata": {
    "collapsed": true
   },
   "outputs": [],
   "source": [
    "def reviewer_who_directly_write_sitename(min_count, dataframe):\n",
    "    condition3 = [] \n",
    "    reviewer_who_write_sitename = dataframe[dataframe['desc'].str.contains(u\"고고싱\")]\n",
    "    reviewer_and_reviews = reviewer_who_write_sitename['cId'].value_counts()\n",
    "    suspicious_reviewers = reviewer_and_reviews[reviewer_and_reviews >= min_count].index\n",
    "    for reviewer in suspicious_reviewers:\n",
    "        condition3.append(reviewer)\n",
    "        \n",
    "    return condition3"
   ]
  },
  {
   "cell_type": "markdown",
   "metadata": {},
   "source": [
    "# condition4 : 평균 rScore가 5에 가까운 리뷰어\n",
    "\n"
   ]
  },
  {
   "cell_type": "code",
   "execution_count": 35,
   "metadata": {
    "collapsed": true
   },
   "outputs": [],
   "source": [
    "def reviewer_who_has_high_rscore(min_rscore, dataframe):\n",
    "    condition4 = [] \n",
    "    mean_rscore = dataframe.groupby(dataframe.cId).mean()['rScore']\n",
    "    suspicious_reviewers = mean_rscore[mean_rscore >= min_rscore].index\n",
    "    for reviewer in suspicious_reviewers:\n",
    "        condition4.append(reviewer)\n",
    "        \n",
    "    return condition4"
   ]
  },
  {
   "cell_type": "code",
   "execution_count": 36,
   "metadata": {
    "collapsed": true
   },
   "outputs": [],
   "source": [
    "def intersect(lst1, lst2):\n",
    "    return list(set(lst1) & set(lst2))\n",
    "\n",
    "#spam_reviewers = (intersect(intersect(intersect(condition3, condition4), condition2), condition1))\n",
    "#pprint(spam_reviewers)"
   ]
  },
  {
   "cell_type": "markdown",
   "metadata": {},
   "source": [
    "# condition 5 : reviewer who has many reviews in A product over all time"
   ]
  },
  {
   "cell_type": "code",
   "execution_count": 37,
   "metadata": {
    "collapsed": true
   },
   "outputs": [],
   "source": [
    "def reviewer_who_has_many_reviews_in_a_product(min_count, dataframe):\n",
    "    condition5 = []\n",
    "    product_burst = pd.DataFrame({'count' : dataframe.groupby( [ \"pID\", \"cId\"] ).size()}).reset_index()\n",
    "    suspicious_reviewers = (product_burst[product_burst['count'] >= min_count])['cId']\n",
    "    for reviewer in suspicious_reviewers:\n",
    "        condition5.append(reviewer)\n",
    "    \n",
    "    return remove_duplicate_from_list(condition5)\n",
    "\n",
    "#reviewer_who_has_many_reviews_in_a_product(7)"
   ]
  },
  {
   "cell_type": "markdown",
   "metadata": {},
   "source": [
    "앞자리만 같은 리뷰어는.. 생각해줘야함!!!"
   ]
  },
  {
   "cell_type": "markdown",
   "metadata": {},
   "source": [
    "# 값만 주면 한번에 실행하는 함수"
   ]
  },
  {
   "cell_type": "markdown",
   "metadata": {},
   "source": [
    "# reviewer_who_satisfy_some_condition - intersect ver.\n",
    "\n",
    "spammer cId리스트 반환"
   ]
  },
  {
   "cell_type": "code",
   "execution_count": 52,
   "metadata": {
    "collapsed": true
   },
   "outputs": [],
   "source": [
    "'''\n",
    "각 bool 파라미터는 각 조건의 포함여부를 나타내며 실험32의 경우 모든 조건을 보므로 다 1임\n",
    "cond1 : 한 제품 & 특정 날짜에 cond1개 초과로 남긴 리뷰어\n",
    "cond2 : cond2개 초과의 리뷰를 가진 리뷰어\n",
    "cond3 : 상호명 언급을 cond3번 초과한 리뷰어\n",
    "cond4 : 평점 cond4초과 리뷰어\n",
    "cond5 : 한제품에 cond5개 초과로 리뷰남긴 리뷰어 추가하기\n",
    "'''\n",
    "def reviewer_who_satisfy_some_condition(dataframe, cond1_bool, cond2_bool, cond3_bool, cond4_bool, cond5_bool,\n",
    "                                        cond1, cond2, cond3, cond4, cond5):\n",
    "    \n",
    "    unique_cid = dataframe.cId.unique()\n",
    "    #condition1\n",
    "    if(cond1_bool == 1):\n",
    "        reviewer1 = burst_in_product(cond1, dataframe)\n",
    "    else:\n",
    "        reviewer1 = unique_cid\n",
    "    \n",
    "    #condition2\n",
    "    if(cond2_bool == 1):\n",
    "        reviewer2 = find_reviewer_who_has_many_reviews(cond2, dataframe)\n",
    "    else:\n",
    "        reviewer2 = unique_cid\n",
    "        \n",
    "    #condition3\n",
    "    if(cond3_bool == 1):\n",
    "        reviewer3 = reviewer_who_directly_write_sitename(cond3, dataframe)\n",
    "    else:\n",
    "        reviewer3 = unique_cid\n",
    "    \n",
    "    #condition4\n",
    "    if(cond4_bool == 1):\n",
    "        reviewer4 = reviewer_who_has_high_rscore(cond4, dataframe)\n",
    "    else:\n",
    "        reviewer4 = unique_cid\n",
    "        \n",
    "    #condition5\n",
    "    if(cond5_bool == 1):\n",
    "        reviewer5 = reviewer_who_has_many_reviews_in_a_product(cond5, dataframe)\n",
    "    else:\n",
    "        reviewer5 = unique_cid\n",
    "        \n",
    "    spam_reviewers = intersect(intersect(intersect(intersect(reviewer1, reviewer2), reviewer3), reviewer4), reviewer5)\n",
    "    \n",
    "    #네이버 페이 구매자는 제외\n",
    "    if(u'\\ub124\\uc774\\ubc84 \\ud398\\uc774 \\uad6c\\ub9e4\\uc790' in spam_reviewers):\n",
    "        spam_reviewers.remove(u'\\ub124\\uc774\\ubc84 \\ud398\\uc774 \\uad6c\\ub9e4\\uc790')\n",
    "    \n",
    "    except_spam_in_gogosing = dataframe[~dataframe.cId.isin(spam_reviewers)]\n",
    "    print(\"<intersect condition>\")\n",
    "    print(\"cond1 =\" + str(cond1) + \", cond2 =\" + str(cond2) + \", cond3 =\" + str(cond3) + \", cond4 =\" + str(cond4) + \", cond5 =\" + str(cond5))\n",
    "    print(\"the number of spam_reviewers : \" + str(len(spam_reviewers)))\n",
    "    print(\"suspicious spammers : \"),\n",
    "    print(spam_reviewers)\n",
    "    print(\"the number of non spam reviewers : \" + str(len(except_spam_in_gogosing.cId.unique())))\n",
    "    rscore = except_spam_in_gogosing['rScore'].value_counts()\n",
    "      \n",
    "    #print(\"except spam in gogosing : \" )\n",
    "    #print(except_spam_in_gogosing)\n",
    "\n",
    "    #어떤 평점의 리뷰가 전체 사라질 경우를 방지하기 위함\n",
    "    if(not(5.0 in rscore.index)):\n",
    "        add_row = pd.Series([1], index=[5.0])\n",
    "        rscore = rscore.add(add_row)\n",
    "    if(not(4.0 in rscore.index)):\n",
    "        add_row = pd.Series([1], index=[4.0])\n",
    "        rscore = rscore.add(add_row)\n",
    "    if(not(3.0 in rscore.index)):\n",
    "        add_row = pd.Series([1], index=[3.0])\n",
    "        rscore = rscore.add(add_row)\n",
    "    if(not(2.0 in rscore.index)):\n",
    "        add_row = pd.Series([1], index=[2.0])\n",
    "        rscore = rscore.add(add_row)\n",
    "    if(not(1.0 in rscore.index)):\n",
    "        add_row = pd.Series([1], index=[1.0])\n",
    "        rscore = rscore.add(add_row)\n",
    "        \n",
    "    print(\"\\n\")\n",
    "    print(\"rscore : \")\n",
    "    print(rscore)        \n",
    "    \n",
    "    print (\"ratio btw 5.0 and 4.0 : \" + str(float(rscore[5.0])/float(rscore[4.0])))\n",
    "    print (\"ratio btw 5.0 and 3.0 : \" + str(float(rscore[5.0])/float(rscore[3.0])))\n",
    "    print (\"ratio btw 5.0 and 2.0 : \" + str(float(rscore[5.0])/float(rscore[2.0])))\n",
    "    print (\"ratio btw 5.0 and 1.0 : \" + str(float(rscore[5.0])/float(rscore[1.0])))\n",
    "    \n",
    "    print (\"the number of 5.0 reviews : \" + str(rscore[5.0]))\n",
    "    print (\"the number of 4.0 reviews : \" + str(rscore[4.0]))\n",
    "    print (\"the number of 3.0 reviews : \" + str(rscore[3.0]))\n",
    "    print (\"the number of 2.0 reviews : \" + str(rscore[2.0]))\n",
    "    print (\"the number of 1.0 reviews : \" + str(rscore[1.0]))\n",
    "                    \n",
    "    score = ('5.0', '4.0', '3.0', '2.0', '1.0')\n",
    "    number_of_reviews = [rscore[5.0],\n",
    "                     rscore[4.0],\n",
    "                     rscore[3.0],\n",
    "                     rscore[2.0],\n",
    "                     rscore[1.0]]\n",
    "\n",
    "    plt.bar(score, number_of_reviews, color=['red'],\n",
    "        width=0.3, alpha=0.5)\n",
    "    plt.xticks(score, fontsize=15)\n",
    "    plt.yticks(fontsize=15)\n",
    "    plt.ylabel('# of review', fontsize=15)\n",
    "    plt.rcParams[\"figure.figsize\"] = (6,4)\n",
    "    plt.xlabel('rScore', fontsize=15)\n",
    "    ax = plt.gca()\n",
    "    ax.set_ylim([0.0, except_spam_in_gogosing.shape[0]+500])\n",
    "    plt.show()\n",
    "    print(\"\\n\\n\")\n",
    "    return spam_reviewers"
   ]
  },
  {
   "cell_type": "markdown",
   "metadata": {},
   "source": [
    "# reviewer_who_satisfy_some_condition - union ver.\n",
    "\n",
    "non spammer들의 cId리스트 반환"
   ]
  },
  {
   "cell_type": "code",
   "execution_count": 56,
   "metadata": {},
   "outputs": [],
   "source": [
    "def reviewer_who_satisfy_some_condition_union(dataframe, cond1_bool, cond2_bool, cond3_bool, cond4_bool, cond5_bool,\n",
    "                                        cond1, cond2, cond3, cond4, cond5):\n",
    "    \n",
    "     #condition1\n",
    "    if(cond1_bool == 1):\n",
    "        reviewer1 = burst_in_product(cond1, dataframe)\n",
    "    else:\n",
    "        reviewer1 = []\n",
    "    \n",
    "    #condition2\n",
    "    if(cond2_bool == 1):\n",
    "        reviewer2 = find_reviewer_who_has_many_reviews(cond2, dataframe)\n",
    "    else:\n",
    "        reviewer2 = []\n",
    "        \n",
    "    #condition3\n",
    "    if(cond3_bool == 1):\n",
    "        reviewer3 = reviewer_who_directly_write_sitename(cond3, dataframe)\n",
    "    else:\n",
    "        reviewer3 = []\n",
    "    \n",
    "    #condition4\n",
    "    if(cond4_bool == 1):\n",
    "        reviewer4 = reviewer_who_has_high_rscore(cond4, dataframe)\n",
    "    else:\n",
    "        reviewer4 = []\n",
    "        \n",
    "    #condition5\n",
    "    if(cond5_bool == 1):\n",
    "        reviewer5 = reviewer_who_has_many_reviews_in_a_product(cond5, dataframe)\n",
    "    else:\n",
    "        reviewer5 = []  \n",
    "        \n",
    "    spam_reviewers = remove_duplicate_from_list(reviewer1 + reviewer2 + reviewer3 + reviewer4 + reviewer5)\n",
    "    \n",
    "    \n",
    "    #네이버 페이 구매자는 스패머에서 일단 제외\n",
    "    if(u'\\ub124\\uc774\\ubc84 \\ud398\\uc774 \\uad6c\\ub9e4\\uc790' in spam_reviewers):\n",
    "        spam_reviewers.remove(u'\\ub124\\uc774\\ubc84 \\ud398\\uc774 \\uad6c\\ub9e4\\uc790')\n",
    "    \n",
    "    except_spam_in_gogosing = dataframe[~dataframe.cId.isin(spam_reviewers)]\n",
    "    print(\"total number of suspicious spam reviewers : \" + str(len(spam_reviewers)))\n",
    "\n",
    "    print(\"total number of expected non-spam reviewers : \" + str(len(except_spam_in_gogosing.cId.unique()))) \n",
    "    \n",
    "    print(\"<union condition>\")\n",
    "    print(\"cond1 =\" + str(cond1) + \", cond2 =\" + str(cond2) + \", cond3 =\" + str(cond3) + \", cond4 =\" + str(cond4) + \", cond5 =\" + str(cond5))\n",
    "    \n",
    "    rscore = except_spam_in_gogosing['rScore'].value_counts()\n",
    "     \n",
    "\n",
    "    if(not(5.0 in rscore.index)):\n",
    "        add_row = pd.Series([1], index=[5.0])\n",
    "        rscore = rscore.add(add_row)\n",
    "    if(not(4.0 in rscore.index)):\n",
    "        add_row = pd.Series([1], index=[4.0])\n",
    "        rscore = rscore.add(add_row)\n",
    "    if(not(3.0 in rscore.index)):\n",
    "        add_row = pd.Series([1], index=[3.0])\n",
    "        rscore = rscore.add(add_row)\n",
    "    if(not(2.0 in rscore.index)):\n",
    "        add_row = pd.Series([1], index=[2.0])\n",
    "        rscore = rscore.add(add_row)\n",
    "    if(not(1.0 in rscore.index)):\n",
    "        add_row = pd.Series([1], index=[1.0])\n",
    "        rscore = rscore.add(add_row)  \n",
    "    \n",
    "    print (\"ratio btw 5.0 and 4.0 : \" + str(float(rscore[5.0])/float(rscore[4.0])))\n",
    "    print (\"ratio btw 5.0 and 3.0 : \" + str(float(rscore[5.0])/float(rscore[3.0])))\n",
    "    print (\"ratio btw 5.0 and 2.0 : \" + str(float(rscore[5.0])/float(rscore[2.0])))\n",
    "    print (\"ratio btw 5.0 and 1.0 : \" + str(float(rscore[5.0])/float(rscore[1.0])))\n",
    "    \n",
    "\n",
    "    print (\"the number of 5.0 reviews : \" + str(rscore[5.0]))\n",
    "    print (\"the number of 4.0 reviews : \" + str(rscore[4.0]))\n",
    "    print (\"the number of 3.0 reviews : \" + str(rscore[3.0]))\n",
    "    print (\"the number of 2.0 reviews : \" + str(rscore[2.0]))\n",
    "    print (\"the number of 1.0 reviews : \" + str(rscore[1.0]))\n",
    "    \n",
    "                    \n",
    "    score = ('5.0', '4.0', '3.0', '2.0', '1.0')\n",
    "    number_of_reviews = [rscore[5.0],\n",
    "                     rscore[4.0],\n",
    "                     rscore[3.0],\n",
    "                     rscore[2.0],\n",
    "                     rscore[1.0]]\n",
    "\n",
    "    plt.bar(score, number_of_reviews, color=['red'],\n",
    "        width=0.3, alpha=0.5)\n",
    "    plt.xticks(score, fontsize=15)\n",
    "    plt.yticks(fontsize=15)\n",
    "    plt.ylabel('# of review', fontsize=15)\n",
    "    plt.rcParams[\"figure.figsize\"] = (6,4)\n",
    "    plt.xlabel('rScore', fontsize=15)\n",
    "    ax = plt.gca()\n",
    "    ax.set_ylim([0.0, except_spam_in_gogosing.shape[0]+1000])\n",
    "    plt.show()\n",
    "    print(\"\\n\\n\")\n",
    "    \n",
    "    return except_spam_in_gogosing.cId.unique()"
   ]
  },
  {
   "cell_type": "markdown",
   "metadata": {},
   "source": [
    "# intersect\n",
    "\n"
   ]
  },
  {
   "cell_type": "code",
   "execution_count": 54,
   "metadata": {
    "scrolled": true
   },
   "outputs": [
    {
     "name": "stdout",
     "output_type": "stream",
     "text": [
      "<intersect condition>\n",
      "cond1 =3, cond2 =50, cond3 =10, cond4 =4.95, cond5 =2\n",
      "the number of spam_reviewers : 26\n",
      "suspicious spammers :  [u'asdfg18**', u'ghkal04**', u'rladmswl9708**', u'leeliast**', u'rhdms10**', u'sally70**', u'm0928hy**', u'yeji04**', u'sejin1**', u'wlgml13**', u'yjyim**', u'hooming**', u'sy2004**', u'ik35**', u'sosososo**', u'yeon33**', u'loveheart77**', u'wjswldms0**', u'ch**', u'jy03**', u'seoa40**', u'altnr**', u'acua**', u'wertyuio9**', u'chihn19**', u'dekuu12**']\n",
      "the number of non spam reviewers : 138624\n",
      "\n",
      "\n",
      "rscore : \n",
      "5.0    697487\n",
      "4.0     46753\n",
      "3.0     18167\n",
      "2.0      4561\n",
      "1.0      2610\n",
      "Name: rScore, dtype: int64\n",
      "ratio btw 5.0 and 4.0 : 14.9185506812\n",
      "ratio btw 5.0 and 3.0 : 38.3930753564\n",
      "ratio btw 5.0 and 2.0 : 152.924139443\n",
      "ratio btw 5.0 and 1.0 : 267.236398467\n",
      "the number of 5.0 reviews : 697487\n",
      "the number of 4.0 reviews : 46753\n",
      "the number of 3.0 reviews : 18167\n",
      "the number of 2.0 reviews : 4561\n",
      "the number of 1.0 reviews : 2610\n"
     ]
    },
    {
     "data": {
      "image/png": "[encoded data removed]",
      "text/plain": [
       "<Figure size 432x288 with 1 Axes>"
      ]
     },
     "metadata": {},
     "output_type": "display_data"
    },
    {
     "name": "stdout",
     "output_type": "stream",
     "text": [
      "\n",
      "\n",
      "\n"
     ]
    },
    {
     "data": {
      "text/plain": [
       "[u'asdfg18**',\n",
       " u'ghkal04**',\n",
       " u'rladmswl9708**',\n",
       " u'leeliast**',\n",
       " u'rhdms10**',\n",
       " u'sally70**',\n",
       " u'm0928hy**',\n",
       " u'yeji04**',\n",
       " u'sejin1**',\n",
       " u'wlgml13**',\n",
       " u'yjyim**',\n",
       " u'hooming**',\n",
       " u'sy2004**',\n",
       " u'ik35**',\n",
       " u'sosososo**',\n",
       " u'yeon33**',\n",
       " u'loveheart77**',\n",
       " u'wjswldms0**',\n",
       " u'ch**',\n",
       " u'jy03**',\n",
       " u'seoa40**',\n",
       " u'altnr**',\n",
       " u'acua**',\n",
       " u'wertyuio9**',\n",
       " u'chihn19**',\n",
       " u'dekuu12**']"
      ]
     },
     "execution_count": 54,
     "metadata": {},
     "output_type": "execute_result"
    }
   ],
   "source": [
    "reviewer_who_satisfy_some_condition(go_data, 1, 1, 1, 1, 1, 3, 50, 10, 4.95, 2)"
   ]
  },
  {
   "cell_type": "code",
   "execution_count": 58,
   "metadata": {
    "scrolled": true
   },
   "outputs": [
    {
     "name": "stdout",
     "output_type": "stream",
     "text": [
      "<intersect condition>\n",
      "cond1 =3, cond2 =50, cond3 =10, cond4 =4.96, cond5 =3\n",
      "the number of spam_reviewers : 24\n",
      "suspicious spammers :  [u'ghkal04**', u'rladmswl9708**', u'leeliast**', u'rhdms10**', u'sally70**', u'm0928hy**', u'yeji04**', u'sejin1**', u'wlgml13**', u'asdfg18**', u'hooming**', u'sy2004**', u'ik35**', u'sosososo**', u'yeon33**', u'loveheart77**', u'wjswldms0**', u'ch**', u'jy03**', u'seoa40**', u'altnr**', u'acua**', u'chihn19**', u'dekuu12**']\n",
      "the number of non spam reviewers : 138626\n",
      "\n",
      "\n",
      "rscore : \n",
      "5.0    697837\n",
      "4.0     46758\n",
      "3.0     18170\n",
      "2.0      4563\n",
      "1.0      2610\n",
      "Name: rScore, dtype: int64\n",
      "ratio btw 5.0 and 4.0 : 14.9244407374\n",
      "ratio btw 5.0 and 3.0 : 38.4059988993\n",
      "ratio btw 5.0 and 2.0 : 152.933815472\n",
      "ratio btw 5.0 and 1.0 : 267.370498084\n",
      "the number of 5.0 reviews : 697837\n",
      "the number of 4.0 reviews : 46758\n",
      "the number of 3.0 reviews : 18170\n",
      "the number of 2.0 reviews : 4563\n",
      "the number of 1.0 reviews : 2610\n"
     ]
    },
    {
     "data": {
      "image/png": "[encoded data removed]",
      "text/plain": [
       "<Figure size 432x288 with 1 Axes>"
      ]
     },
     "metadata": {},
     "output_type": "display_data"
    },
    {
     "name": "stdout",
     "output_type": "stream",
     "text": [
      "\n",
      "\n",
      "\n"
     ]
    },
    {
     "data": {
      "text/plain": [
       "[u'ghkal04**',\n",
       " u'rladmswl9708**',\n",
       " u'leeliast**',\n",
       " u'rhdms10**',\n",
       " u'sally70**',\n",
       " u'm0928hy**',\n",
       " u'yeji04**',\n",
       " u'sejin1**',\n",
       " u'wlgml13**',\n",
       " u'asdfg18**',\n",
       " u'hooming**',\n",
       " u'sy2004**',\n",
       " u'ik35**',\n",
       " u'sosososo**',\n",
       " u'yeon33**',\n",
       " u'loveheart77**',\n",
       " u'wjswldms0**',\n",
       " u'ch**',\n",
       " u'jy03**',\n",
       " u'seoa40**',\n",
       " u'altnr**',\n",
       " u'acua**',\n",
       " u'chihn19**',\n",
       " u'dekuu12**']"
      ]
     },
     "execution_count": 58,
     "metadata": {},
     "output_type": "execute_result"
    }
   ],
   "source": [
    "reviewer_who_satisfy_some_condition(go_data, 1, 1, 1, 1, 1, 3, 50, 10, 4.96, 3)"
   ]
  },
  {
   "cell_type": "code",
   "execution_count": 60,
   "metadata": {},
   "outputs": [
    {
     "name": "stdout",
     "output_type": "stream",
     "text": [
      "<intersect condition>\n",
      "cond1 =3, cond2 =50, cond3 =2, cond4 =4.96, cond5 =3\n",
      "the number of spam_reviewers : 46\n",
      "suspicious spammers :  [u'ghkal04**', u'rladmswl9708**', u'wldwldg**', u'leeliast**', u'rhdms10**', u'sally70**', u'm0928hy**', u'yeji04**', u'gloryn**', u'sestt**', u'dorosy11**', u'wlgml13**', u'rhdecyli**', u'phr9101**', u'asdfg18**', u'diqkdldiqk**', u'hooming**', u'sy2004**', u'qpqlgi**', u'tmfrl123**', u'jhw20**', u'sejin1**', u'ngt**', u'sosososo**', u'yeon33**', u'chdms03**', u'kimminji**', u'loveheart77**', u'qapl44**', u'wjswldms0**', u'ch**', u'jy03**', u'seoa40**', u'altnr**', u'acua**', u'ik35**', u'ekdmsdl07**', u'redgirl4**', u'dev**', u'ans56**', u'chihn19**', u'syndrome12**', u'sjj44**', u'dekuu12**', u'jsh**', u'gmlwls20**']\n",
      "the number of non spam reviewers : 138604\n",
      "\n",
      "\n",
      "rscore : \n",
      "5.0    696081\n",
      "4.0     46753\n",
      "3.0     18167\n",
      "2.0      4563\n",
      "1.0      2610\n",
      "Name: rScore, dtype: int64\n",
      "ratio btw 5.0 and 4.0 : 14.8884777447\n",
      "ratio btw 5.0 and 3.0 : 38.3156822811\n",
      "ratio btw 5.0 and 2.0 : 152.548980934\n",
      "ratio btw 5.0 and 1.0 : 266.697701149\n",
      "the number of 5.0 reviews : 696081\n",
      "the number of 4.0 reviews : 46753\n",
      "the number of 3.0 reviews : 18167\n",
      "the number of 2.0 reviews : 4563\n",
      "the number of 1.0 reviews : 2610\n"
     ]
    },
    {
     "data": {
      "image/png": "[encoded data removed]",
      "text/plain": [
       "<Figure size 432x288 with 1 Axes>"
      ]
     },
     "metadata": {},
     "output_type": "display_data"
    },
    {
     "name": "stdout",
     "output_type": "stream",
     "text": [
      "\n",
      "\n",
      "\n"
     ]
    },
    {
     "data": {
      "text/plain": [
       "[u'ghkal04**',\n",
       " u'rladmswl9708**',\n",
       " u'wldwldg**',\n",
       " u'leeliast**',\n",
       " u'rhdms10**',\n",
       " u'sally70**',\n",
       " u'm0928hy**',\n",
       " u'yeji04**',\n",
       " u'gloryn**',\n",
       " u'sestt**',\n",
       " u'dorosy11**',\n",
       " u'wlgml13**',\n",
       " u'rhdecyli**',\n",
       " u'phr9101**',\n",
       " u'asdfg18**',\n",
       " u'diqkdldiqk**',\n",
       " u'hooming**',\n",
       " u'sy2004**',\n",
       " u'qpqlgi**',\n",
       " u'tmfrl123**',\n",
       " u'jhw20**',\n",
       " u'sejin1**',\n",
       " u'ngt**',\n",
       " u'sosososo**',\n",
       " u'yeon33**',\n",
       " u'chdms03**',\n",
       " u'kimminji**',\n",
       " u'loveheart77**',\n",
       " u'qapl44**',\n",
       " u'wjswldms0**',\n",
       " u'ch**',\n",
       " u'jy03**',\n",
       " u'seoa40**',\n",
       " u'altnr**',\n",
       " u'acua**',\n",
       " u'ik35**',\n",
       " u'ekdmsdl07**',\n",
       " u'redgirl4**',\n",
       " u'dev**',\n",
       " u'ans56**',\n",
       " u'chihn19**',\n",
       " u'syndrome12**',\n",
       " u'sjj44**',\n",
       " u'dekuu12**',\n",
       " u'jsh**',\n",
       " u'gmlwls20**']"
      ]
     },
     "execution_count": 60,
     "metadata": {},
     "output_type": "execute_result"
    }
   ],
   "source": [
    "reviewer_who_satisfy_some_condition(go_data, 1, 1, 1, 1, 1, 3, 50, 2, 4.96, 3)"
   ]
  },
  {
   "cell_type": "markdown",
   "metadata": {},
   "source": [
    "# union"
   ]
  },
  {
   "cell_type": "code",
   "execution_count": 57,
   "metadata": {
    "scrolled": true
   },
   "outputs": [
    {
     "name": "stdout",
     "output_type": "stream",
     "text": [
      "total number of suspicious spam reviewers : 112031\n",
      "total number of expected non-spam reviewers : 26619\n",
      "<union condition>\n",
      "cond1 =3, cond2 =50, cond3 =10, cond4 =4.95, cond5 =2\n",
      "ratio btw 5.0 and 4.0 : 4.99350310153\n",
      "ratio btw 5.0 and 3.0 : 13.7471687938\n",
      "ratio btw 5.0 and 2.0 : 54.1995038979\n",
      "ratio btw 5.0 and 1.0 : 88.6158748552\n",
      "the number of 5.0 reviews : 152951\n",
      "the number of 4.0 reviews : 30630\n",
      "the number of 3.0 reviews : 11126\n",
      "the number of 2.0 reviews : 2822\n",
      "the number of 1.0 reviews : 1726\n"
     ]
    },
    {
     "data": {
      "image/png": "[encoded data removed]",
      "text/plain": [
       "<Figure size 432x288 with 1 Axes>"
      ]
     },
     "metadata": {},
     "output_type": "display_data"
    },
    {
     "name": "stdout",
     "output_type": "stream",
     "text": [
      "\n",
      "\n",
      "\n"
     ]
    },
    {
     "data": {
      "text/plain": [
       "array([u'geeuns**', u'\\ub124\\uc774\\ubc84 \\ud398\\uc774 \\uad6c\\ub9e4\\uc790',\n",
       "       u'achvi**', ..., u'loveeng**', u'qufwnsg**', u'abc06**'],\n",
       "      dtype=object)"
      ]
     },
     "execution_count": 57,
     "metadata": {},
     "output_type": "execute_result"
    }
   ],
   "source": [
    "reviewer_who_satisfy_some_condition_union(go_data, 1, 1, 1, 1, 1, 3, 50, 10, 4.95, 2)"
   ]
  },
  {
   "cell_type": "code",
   "execution_count": 59,
   "metadata": {
    "scrolled": true
   },
   "outputs": [
    {
     "name": "stdout",
     "output_type": "stream",
     "text": [
      "total number of suspicious spam reviewers : 107046\n",
      "total number of expected non-spam reviewers : 31604\n",
      "<union condition>\n",
      "cond1 =3, cond2 =50, cond3 =10, cond4 =4.96, cond5 =3\n",
      "ratio btw 5.0 and 4.0 : 5.28002892552\n",
      "ratio btw 5.0 and 3.0 : 13.9996694215\n",
      "ratio btw 5.0 and 2.0 : 55.4596647459\n",
      "ratio btw 5.0 and 1.0 : 93.9418811003\n",
      "the number of 5.0 reviews : 211745\n",
      "the number of 4.0 reviews : 40103\n",
      "the number of 3.0 reviews : 15125\n",
      "the number of 2.0 reviews : 3818\n",
      "the number of 1.0 reviews : 2254\n"
     ]
    },
    {
     "data": {
      "image/png": "[encoded data removed]",
      "text/plain": [
       "<Figure size 432x288 with 1 Axes>"
      ]
     },
     "metadata": {},
     "output_type": "display_data"
    },
    {
     "name": "stdout",
     "output_type": "stream",
     "text": [
      "\n",
      "\n",
      "\n"
     ]
    },
    {
     "data": {
      "text/plain": [
       "array([u'geeuns**', u'mdk67**', u'ekdus1**', ..., u'qufwnsg**',\n",
       "       u'abc06**', u'skyqhd**'], dtype=object)"
      ]
     },
     "execution_count": 59,
     "metadata": {},
     "output_type": "execute_result"
    }
   ],
   "source": [
    "reviewer_who_satisfy_some_condition_union(go_data, 1, 1, 1, 1, 1, 3, 50, 10, 4.96, 3)"
   ]
  },
  {
   "cell_type": "code",
   "execution_count": 61,
   "metadata": {},
   "outputs": [
    {
     "name": "stdout",
     "output_type": "stream",
     "text": [
      "total number of suspicious spam reviewers : 112289\n",
      "total number of expected non-spam reviewers : 26361\n",
      "<union condition>\n",
      "cond1 =3, cond2 =50, cond3 =2, cond4 =4.96, cond5 =3\n",
      "ratio btw 5.0 and 4.0 : 4.90415314731\n",
      "ratio btw 5.0 and 3.0 : 12.9295124038\n",
      "ratio btw 5.0 and 2.0 : 50.4998329435\n",
      "ratio btw 5.0 and 1.0 : 84.4391061453\n",
      "the number of 5.0 reviews : 151146\n",
      "the number of 4.0 reviews : 30820\n",
      "the number of 3.0 reviews : 11690\n",
      "the number of 2.0 reviews : 2993\n",
      "the number of 1.0 reviews : 1790\n"
     ]
    },
    {
     "data": {
      "image/png": "[encoded data removed]",
      "text/plain": [
       "<Figure size 432x288 with 1 Axes>"
      ]
     },
     "metadata": {},
     "output_type": "display_data"
    },
    {
     "name": "stdout",
     "output_type": "stream",
     "text": [
      "\n",
      "\n",
      "\n"
     ]
    },
    {
     "data": {
      "text/plain": [
       "array([u'geeuns**', u'\\ub124\\uc774\\ubc84 \\ud398\\uc774 \\uad6c\\ub9e4\\uc790',\n",
       "       u'achvi**', ..., u'loveeng**', u'abc06**', u'skyqhd**'],\n",
       "      dtype=object)"
      ]
     },
     "execution_count": 61,
     "metadata": {},
     "output_type": "execute_result"
    }
   ],
   "source": [
    "reviewer_who_satisfy_some_condition_union(go_data, 1, 1, 1, 1, 1, 3, 50, 2, 4.96, 3)"
   ]
  },
  {
   "cell_type": "code",
   "execution_count": null,
   "metadata": {
    "collapsed": true
   },
   "outputs": [],
   "source": []
  }
 ],
 "metadata": {
  "kernelspec": {
   "display_name": "Python 2",
   "language": "python",
   "name": "python2"
  },
  "language_info": {
   "codemirror_mode": {
    "name": "ipython",
    "version": 2
   },
   "file_extension": ".py",
   "mimetype": "text/x-python",
   "name": "python",
   "nbconvert_exporter": "python",
   "pygments_lexer": "ipython2",
   "version": "2.7.12"
  }
 },
 "nbformat": 4,
 "nbformat_minor": 2
}
